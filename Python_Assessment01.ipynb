{
 "cells": [
  {
   "cell_type": "code",
   "execution_count": 58,
   "metadata": {},
   "outputs": [
    {
     "name": "stdout",
     "output_type": "stream",
     "text": [
      "its not a prime number\n",
      "its not a prime number\n",
      "its a prime number \n"
     ]
    }
   ],
   "source": [
    "prime = int(input('enter the number : '))\n",
    "count = 0\n",
    "for i in range (2,prime+1):\n",
    "    if prime%i == 0:\n",
    "        count +=1\n",
    "    if count == 1:\n",
    "       print ('its a prime number ')\n",
    "    else :\n",
    "       print ('its not a prime number')\n",
    "\n",
    "    "
   ]
  },
  {
   "cell_type": "code",
   "execution_count": 16,
   "metadata": {},
   "outputs": [
    {
     "name": "stdout",
     "output_type": "stream",
     "text": [
      "input word :  jayam\n",
      "reverse word : mayaj\n"
     ]
    }
   ],
   "source": [
    "string = str(input ('enter the word : '))\n",
    "print ('input word : ',string)\n",
    "print('reverse word :',string[::-1])\n",
    "\n",
    "\n"
   ]
  },
  {
   "cell_type": "code",
   "execution_count": 18,
   "metadata": {},
   "outputs": [
    {
     "name": "stdout",
     "output_type": "stream",
     "text": [
      "Monday\n",
      "Sunday\n",
      "Saturday\n"
     ]
    }
   ],
   "source": [
    "Days=['Monday','tuesday','friday','Sunday','Saturday']\n",
    "for i in Days:\n",
    "    if i[0].isupper():\n",
    "        print(i)\n"
   ]
  },
  {
   "cell_type": "code",
   "execution_count": 20,
   "metadata": {},
   "outputs": [
    {
     "name": "stdout",
     "output_type": "stream",
     "text": [
      "1997\n",
      "2011\n",
      "1993\n",
      "2020\n",
      "[None]\n"
     ]
    }
   ],
   "source": [
    "Batch=['15-06-1997','15-06-2011','15-06-1993','15-06-2020']\n",
    "for i in Batch:\n",
    "    year = print (i [-4:])\n",
    "date = [year]\n",
    "print(date)"
   ]
  },
  {
   "cell_type": "code",
   "execution_count": 28,
   "metadata": {},
   "outputs": [
    {
     "name": "stdout",
     "output_type": "stream",
     "text": [
      "old module : {'Data Science': 1, 'Machine Learning': 2, 'SQL': 3, 'Big Data': 4}\n",
      "new module :  {1: 'Data Science', 2: 'Machine Learning', 3: 'SQL', 4: 'Big Data'}\n"
     ]
    }
   ],
   "source": [
    "Module={'Data Science':1,'Machine Learning':2, 'SQL':3, 'Big Data':4}\n",
    "print('old module :',Module)\n",
    "d ={}\n",
    "for key,value in Module.items():\n",
    "    d[value]= key\n",
    "print ('new module : ',d)"
   ]
  },
  {
   "cell_type": "code",
   "execution_count": 31,
   "metadata": {},
   "outputs": [
    {
     "name": "stdout",
     "output_type": "stream",
     "text": [
      "no of letter are :  11\n"
     ]
    }
   ],
   "source": [
    "my_string = 'data science'\n",
    "count = 0\n",
    "for i in my_string:\n",
    "    if i !=' ':\n",
    "      count +=1\n",
    "print ('no of letter are : ',count) "
   ]
  },
  {
   "cell_type": "code",
   "execution_count": 32,
   "metadata": {},
   "outputs": [],
   "source": [
    "def check_number():\n",
    "    number = int(input('enter the number : '))\n",
    "    if 1000<=number<=10000:\n",
    "        print ('its in the range')\n",
    "    else:\n",
    "        print ('its not in the range')"
   ]
  },
  {
   "cell_type": "code",
   "execution_count": 34,
   "metadata": {},
   "outputs": [
    {
     "name": "stdout",
     "output_type": "stream",
     "text": [
      "total :  104\n"
     ]
    }
   ],
   "source": [
    "test_score = [10, 32, 23, 14, 25]\n",
    "a = sum(test_score)\n",
    "print ('total : ',a)"
   ]
  },
  {
   "cell_type": "code",
   "execution_count": 37,
   "metadata": {},
   "outputs": [
    {
     "name": "stdout",
     "output_type": "stream",
     "text": [
      "[210 106 125 240]\n"
     ]
    }
   ],
   "source": [
    "import numpy as np\n",
    "Score = np.array([[210, 402, 383],\n",
    "[140, 375, 106],\n",
    "[140, 125, 217],\n",
    "[292, 240, 295]])\n",
    "print(Score.min(axis = 1))\n"
   ]
  },
  {
   "cell_type": "code",
   "execution_count": 59,
   "metadata": {},
   "outputs": [
    {
     "name": "stdout",
     "output_type": "stream",
     "text": [
      "[-1 21 -1 13 -1 45 -1 -1 -1 -1 65 -1 -1]\n"
     ]
    }
   ],
   "source": [
    "num_array = np.array([0, 21, 32, 13, 44, 45, \n",
    "26, 28, 38, 34, 65, 48, 76])\n",
    "print(np.array([x if (x%2!=0) else -1 for x in num_array]))\n"
   ]
  },
  {
   "cell_type": "code",
   "execution_count": 62,
   "metadata": {},
   "outputs": [
    {
     "name": "stdout",
     "output_type": "stream",
     "text": [
      "[5, 3.5, 2.6666666666666665, 3.0, 3.6]\n"
     ]
    }
   ],
   "source": [
    "input_lst = [5,2,1,4,6]\n",
    "import itertools as pd\n",
    "l=[]\n",
    "l= pd.accumulate(list(enumerate(input_lst)), lambda x,y: (y[0], (x[1]*(x[0]+1) + y[1])/(y[0]+1)))\n",
    "output_6 = list(map(lambda x: x[1], l))\n",
    "print(output_6)"
   ]
  },
  {
   "cell_type": "code",
   "execution_count": 63,
   "metadata": {},
   "outputs": [
    {
     "name": "stdout",
     "output_type": "stream",
     "text": [
      "          1   \n",
      "        1   1   \n",
      "      1   2   1   \n",
      "    1   3   3   1   \n",
      "  1   4   6   4   1   \n",
      "1   5   10  10  5   1   \n"
     ]
    }
   ],
   "source": [
    "n=int(input('enter num of rows'))\n",
    "list=[]\n",
    "for i in range(n):\n",
    "    temp_list=[]\n",
    "    for j in range(i+1):\n",
    "        if j==0 or j==i:\n",
    "            temp_list.append(1)\n",
    "        else:\n",
    "            temp_list.append(list[i-1][j-1]+list[i-1][j])\n",
    "    list.append(temp_list)\n",
    "for i in range(n):\n",
    "    for j in range(n-i-1):\n",
    "        print(format(\" \",\"<2\"),end=\"\")\n",
    "    for j in range(i+1):\n",
    "         print(format(list[i][j],\"<3\"),end=\" \")\n",
    "    print()"
   ]
  }
 ],
 "metadata": {
  "kernelspec": {
   "display_name": "Python 3",
   "language": "python",
   "name": "python3"
  },
  "language_info": {
   "codemirror_mode": {
    "name": "ipython",
    "version": 3
   },
   "file_extension": ".py",
   "mimetype": "text/x-python",
   "name": "python",
   "nbconvert_exporter": "python",
   "pygments_lexer": "ipython3",
   "version": "3.11.1"
  },
  "orig_nbformat": 4,
  "vscode": {
   "interpreter": {
    "hash": "7d01bd58df3bf2be4210967a8c3c2ce807ef97862153e68607aff79dc3a697b5"
   }
  }
 },
 "nbformat": 4,
 "nbformat_minor": 2
}
